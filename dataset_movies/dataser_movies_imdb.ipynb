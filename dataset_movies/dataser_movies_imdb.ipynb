{
  "nbformat": 4,
  "nbformat_minor": 0,
  "metadata": {
    "colab": {
      "name": "dataser_movies_imdb.ipynb",
      "private_outputs": true,
      "provenance": [],
      "authorship_tag": "ABX9TyMgvqvG00N3isu77fygTQ2u",
      "include_colab_link": true
    },
    "kernelspec": {
      "name": "python3",
      "display_name": "Python 3"
    },
    "language_info": {
      "name": "python"
    }
  },
  "cells": [
    {
      "cell_type": "markdown",
      "metadata": {
        "id": "view-in-github",
        "colab_type": "text"
      },
      "source": [
        "<a href=\"https://colab.research.google.com/github/MatiasManchino/CursoAnalisisdeDatos/blob/main/dataset_movies/dataser_movies_imdb.ipynb\" target=\"_parent\"><img src=\"https://colab.research.google.com/assets/colab-badge.svg\" alt=\"Open In Colab\"/></a>"
      ]
    },
    {
      "cell_type": "code",
      "execution_count": null,
      "metadata": {
        "id": "8KdIBHvUvubh"
      },
      "outputs": [],
      "source": [
        ""
      ]
    }
  ]
}