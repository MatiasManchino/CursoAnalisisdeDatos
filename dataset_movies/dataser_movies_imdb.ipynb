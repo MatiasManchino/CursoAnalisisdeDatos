{
  "nbformat": 4,
  "nbformat_minor": 0,
  "metadata": {
    "colab": {
      "name": "dataser_movies_imdb.ipynb",
      "private_outputs": true,
      "provenance": [],
      "authorship_tag": "ABX9TyNxgSOGKJV927Pe/bI/cnYl",
      "include_colab_link": true
    },
    "kernelspec": {
      "name": "python3",
      "display_name": "Python 3"
    },
    "language_info": {
      "name": "python"
    }
  },
  "cells": [
    {
      "cell_type": "markdown",
      "metadata": {
        "id": "view-in-github",
        "colab_type": "text"
      },
      "source": [
        "<a href=\"https://colab.research.google.com/github/MatiasManchino/CursoAnalisisdeDatos/blob/main/dataset_movies/dataser_movies_imdb.ipynb\" target=\"_parent\"><img src=\"https://colab.research.google.com/assets/colab-badge.svg\" alt=\"Open In Colab\"/></a>"
      ]
    },
    {
      "cell_type": "code",
      "execution_count": null,
      "metadata": {
        "id": "8KdIBHvUvubh"
      },
      "outputs": [],
      "source": [
        "import pandas as pd\n",
        "import numpy as np\n",
        "import matplotlib\n",
        "import matplotlib.pyplot as plt\n",
        "\n",
        "from IPython.display import Image\n",
        "from IPython.core.display import HTML \n",
        "\n",
        "plt.style.use('ggplot')\n",
        "%matplotlib inline"
      ]
    },
    {
      "cell_type": "code",
      "source": [
        "converters = {\n",
        "    \"movie_id\": lambda x: str(x).zfill(2),\n",
        "    \"title\": lambda x: str(x).zfill(3),\n",
        "    \"cast\": lambda x: str(x).zfill(2),\n",
        "    \"crew\": lambda x: str(x).zfill(3),\n",
        "}\n",
        "\n",
        "MOVIE_PATH = \"https://raw.githubusercontent.com/MatiasManchino/CursoAnalisisdeDatos/main/dataset_movies/credits.csv\"\n",
        "credit = pd.read_csv(MOVIE_PATH, converters=converters)\n",
        "MOVIE_PATH = \"https://raw.githubusercontent.com/MatiasManchino/CursoAnalisisdeDatos/main/dataset_movies/movies.csv\"\n",
        "movie = pd.read_csv(MOVIE_PATH, converters=converters)"
      ],
      "metadata": {
        "id": "xon11itg0UO6"
      },
      "execution_count": null,
      "outputs": []
    },
    {
      "cell_type": "code",
      "source": [
        "rename_dict = {'release_date':'year','cast':'actores','crew':'director'}\n",
        "credit.rename(columns=rename_dict, inplace=True)\n",
        "original_df = credit.copy()"
      ],
      "metadata": {
        "id": "U0vJDXfx9G7T"
      },
      "execution_count": null,
      "outputs": []
    },
    {
      "cell_type": "code",
      "source": [
        "contvote= movie['vote_count'].quantile(0.9)\n",
        "cantvote= movie['vote_average'].mean()\n",
        "amovies = movie.copy().loc[movie['vote_count'] >= cantvote]\n",
        "amovies.shape"
      ],
      "metadata": {
        "id": "1b0T42j5sodD"
      },
      "execution_count": null,
      "outputs": []
    },
    {
      "cell_type": "code",
      "source": [
        "def weighted_rating(x, m=cantvote, C=contvote):\n",
        "    v = x['vote_count']\n",
        "    R = x['vote_average']\n",
        "    # Calculation based on the IMDB formula\n",
        "    return (v/(v+m) * R) + (m/(m+v) * C)"
      ],
      "metadata": {
        "id": "NsJrtZZSsp45"
      },
      "execution_count": null,
      "outputs": []
    },
    {
      "cell_type": "code",
      "source": [
        "amovies['score'] = amovies.apply(weighted_rating, axis=1)\n",
        "amovies = amovies.sort_values('score', ascending=False)\n",
        "amovies[['title', 'vote_count', 'vote_average', 'score']].head(20)"
      ],
      "metadata": {
        "id": "Onp1YGnw3oqt"
      },
      "execution_count": null,
      "outputs": []
    }
  ]
}