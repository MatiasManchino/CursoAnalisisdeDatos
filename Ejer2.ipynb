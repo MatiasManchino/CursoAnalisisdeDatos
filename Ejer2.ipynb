{
  "cells": [
    {
      "cell_type": "markdown",
      "metadata": {
        "id": "i1IaYhIOynkC"
      },
      "source": [
        "<a href=\"https://colab.research.google.com/github/institutohumai/cursos-python/blob/master/AnalisisDeDatos/2_Pivot_Table_y_Joins/clase-2-ejercicios.ipynb\"> <img src='https://colab.research.google.com/assets/colab-badge.svg' /> </a>\n",
        "<div align=\"center\"> Recordá abrir en una nueva pestaña </div>\n",
        "\n",
        "\n",
        "# Clase 2: ejercicios prácticos"
      ]
    },
    {
      "cell_type": "code",
      "execution_count": 1,
      "metadata": {
        "id": "dW55eoaCynkJ"
      },
      "outputs": [],
      "source": [
        "import pandas as pd\n",
        "import numpy as np\n",
        "import matplotlib\n",
        "import matplotlib.pyplot as plt\n",
        "\n",
        "plt.style.use('ggplot')\n",
        "%matplotlib inline"
      ]
    },
    {
      "cell_type": "markdown",
      "metadata": {
        "id": "_faCDdVEynkN"
      },
      "source": [
        "## Parámetros y extracción de datos"
      ]
    },
    {
      "cell_type": "code",
      "execution_count": 2,
      "metadata": {
        "id": "-LMjG87bynkN"
      },
      "outputs": [],
      "source": [
        "ESTIMACIONES_URL = \"http://datos.agroindustria.gob.ar/dataset/9e1e77ba-267e-4eaa-a59f-3296e86b5f36/resource/95d066e6-8a0f-4a80-b59d-6f28f88eacd5/download/estimaciones-agricolas-al-30-09-2019.csv\"\n",
        "ESTIMACIONES_URL_S3 = \"https://datasets-humai.s3.amazonaws.com/datasets/estimaciones_agricolas.zip\"\n",
        "ESTIMACIONES_PATH = \"data/estimaciones-agricolas.csv\""
      ]
    },
    {
      "cell_type": "code",
      "execution_count": 3,
      "metadata": {
        "id": "vX6WQ25oynkO"
      },
      "outputs": [],
      "source": [
        "converters = {\n",
        "    \"id_provincia\": lambda x: str(x).zfill(2),\n",
        "    \"id_departamento\": lambda x: str(x).zfill(3),\n",
        "}\n",
        "\n",
        "#estimaciones = pd.read_csv(ESTIMACIONES_URL, encoding=\"latin1\", converters=converters)estimaciones = pd.read_csv(ESTIMACIONES_URL, encoding=\"latin1\", converters=converters)\n",
        "estimaciones = pd.read_csv(ESTIMACIONES_URL_S3, encoding=\"utf8\", converters=converters)\n",
        "#estimaciones.to_csv(ESTIMACIONES_PATH, encoding=\"utf8\", index=False)\n",
        "#estimaciones = pd.read_csv(ESTIMACIONES_PATH, converters=converters)"
      ]
    },
    {
      "cell_type": "code",
      "source": [
        "estimaciones.head(2)"
      ],
      "metadata": {
        "id": "cdiJ6wXjVbiu",
        "outputId": "b4a4c002-4ff8-4b7c-909a-da4033b56a52",
        "colab": {
          "base_uri": "https://localhost:8080/",
          "height": 211
        }
      },
      "execution_count": 46,
      "outputs": [
        {
          "output_type": "execute_result",
          "data": {
            "text/plain": [
              "  id_provincia     provincia id_departamento departamento  id_cultivo cultivo  \\\n",
              "0           06  BUENOS AIRES             854   25 DE MAYO           1     Ajo   \n",
              "1           06  BUENOS AIRES             854   25 DE MAYO           1     Ajo   \n",
              "\n",
              "   id_campaña    campaña  sup_sembrada  sup_cosechada  produccion  rendimiento  \n",
              "0           1  1969/1970             3              3          10         3333  \n",
              "1           2  1970/1971             1              1           3         3000  "
            ],
            "text/html": [
              "\n",
              "  <div id=\"df-c8339a43-8f29-47e2-8cf2-f5496250dee9\">\n",
              "    <div class=\"colab-df-container\">\n",
              "      <div>\n",
              "<style scoped>\n",
              "    .dataframe tbody tr th:only-of-type {\n",
              "        vertical-align: middle;\n",
              "    }\n",
              "\n",
              "    .dataframe tbody tr th {\n",
              "        vertical-align: top;\n",
              "    }\n",
              "\n",
              "    .dataframe thead th {\n",
              "        text-align: right;\n",
              "    }\n",
              "</style>\n",
              "<table border=\"1\" class=\"dataframe\">\n",
              "  <thead>\n",
              "    <tr style=\"text-align: right;\">\n",
              "      <th></th>\n",
              "      <th>id_provincia</th>\n",
              "      <th>provincia</th>\n",
              "      <th>id_departamento</th>\n",
              "      <th>departamento</th>\n",
              "      <th>id_cultivo</th>\n",
              "      <th>cultivo</th>\n",
              "      <th>id_campaña</th>\n",
              "      <th>campaña</th>\n",
              "      <th>sup_sembrada</th>\n",
              "      <th>sup_cosechada</th>\n",
              "      <th>produccion</th>\n",
              "      <th>rendimiento</th>\n",
              "    </tr>\n",
              "  </thead>\n",
              "  <tbody>\n",
              "    <tr>\n",
              "      <th>0</th>\n",
              "      <td>06</td>\n",
              "      <td>BUENOS AIRES</td>\n",
              "      <td>854</td>\n",
              "      <td>25 DE MAYO</td>\n",
              "      <td>1</td>\n",
              "      <td>Ajo</td>\n",
              "      <td>1</td>\n",
              "      <td>1969/1970</td>\n",
              "      <td>3</td>\n",
              "      <td>3</td>\n",
              "      <td>10</td>\n",
              "      <td>3333</td>\n",
              "    </tr>\n",
              "    <tr>\n",
              "      <th>1</th>\n",
              "      <td>06</td>\n",
              "      <td>BUENOS AIRES</td>\n",
              "      <td>854</td>\n",
              "      <td>25 DE MAYO</td>\n",
              "      <td>1</td>\n",
              "      <td>Ajo</td>\n",
              "      <td>2</td>\n",
              "      <td>1970/1971</td>\n",
              "      <td>1</td>\n",
              "      <td>1</td>\n",
              "      <td>3</td>\n",
              "      <td>3000</td>\n",
              "    </tr>\n",
              "  </tbody>\n",
              "</table>\n",
              "</div>\n",
              "      <button class=\"colab-df-convert\" onclick=\"convertToInteractive('df-c8339a43-8f29-47e2-8cf2-f5496250dee9')\"\n",
              "              title=\"Convert this dataframe to an interactive table.\"\n",
              "              style=\"display:none;\">\n",
              "        \n",
              "  <svg xmlns=\"http://www.w3.org/2000/svg\" height=\"24px\"viewBox=\"0 0 24 24\"\n",
              "       width=\"24px\">\n",
              "    <path d=\"M0 0h24v24H0V0z\" fill=\"none\"/>\n",
              "    <path d=\"M18.56 5.44l.94 2.06.94-2.06 2.06-.94-2.06-.94-.94-2.06-.94 2.06-2.06.94zm-11 1L8.5 8.5l.94-2.06 2.06-.94-2.06-.94L8.5 2.5l-.94 2.06-2.06.94zm10 10l.94 2.06.94-2.06 2.06-.94-2.06-.94-.94-2.06-.94 2.06-2.06.94z\"/><path d=\"M17.41 7.96l-1.37-1.37c-.4-.4-.92-.59-1.43-.59-.52 0-1.04.2-1.43.59L10.3 9.45l-7.72 7.72c-.78.78-.78 2.05 0 2.83L4 21.41c.39.39.9.59 1.41.59.51 0 1.02-.2 1.41-.59l7.78-7.78 2.81-2.81c.8-.78.8-2.07 0-2.86zM5.41 20L4 18.59l7.72-7.72 1.47 1.35L5.41 20z\"/>\n",
              "  </svg>\n",
              "      </button>\n",
              "      \n",
              "  <style>\n",
              "    .colab-df-container {\n",
              "      display:flex;\n",
              "      flex-wrap:wrap;\n",
              "      gap: 12px;\n",
              "    }\n",
              "\n",
              "    .colab-df-convert {\n",
              "      background-color: #E8F0FE;\n",
              "      border: none;\n",
              "      border-radius: 50%;\n",
              "      cursor: pointer;\n",
              "      display: none;\n",
              "      fill: #1967D2;\n",
              "      height: 32px;\n",
              "      padding: 0 0 0 0;\n",
              "      width: 32px;\n",
              "    }\n",
              "\n",
              "    .colab-df-convert:hover {\n",
              "      background-color: #E2EBFA;\n",
              "      box-shadow: 0px 1px 2px rgba(60, 64, 67, 0.3), 0px 1px 3px 1px rgba(60, 64, 67, 0.15);\n",
              "      fill: #174EA6;\n",
              "    }\n",
              "\n",
              "    [theme=dark] .colab-df-convert {\n",
              "      background-color: #3B4455;\n",
              "      fill: #D2E3FC;\n",
              "    }\n",
              "\n",
              "    [theme=dark] .colab-df-convert:hover {\n",
              "      background-color: #434B5C;\n",
              "      box-shadow: 0px 1px 3px 1px rgba(0, 0, 0, 0.15);\n",
              "      filter: drop-shadow(0px 1px 2px rgba(0, 0, 0, 0.3));\n",
              "      fill: #FFFFFF;\n",
              "    }\n",
              "  </style>\n",
              "\n",
              "      <script>\n",
              "        const buttonEl =\n",
              "          document.querySelector('#df-c8339a43-8f29-47e2-8cf2-f5496250dee9 button.colab-df-convert');\n",
              "        buttonEl.style.display =\n",
              "          google.colab.kernel.accessAllowed ? 'block' : 'none';\n",
              "\n",
              "        async function convertToInteractive(key) {\n",
              "          const element = document.querySelector('#df-c8339a43-8f29-47e2-8cf2-f5496250dee9');\n",
              "          const dataTable =\n",
              "            await google.colab.kernel.invokeFunction('convertToInteractive',\n",
              "                                                     [key], {});\n",
              "          if (!dataTable) return;\n",
              "\n",
              "          const docLinkHtml = 'Like what you see? Visit the ' +\n",
              "            '<a target=\"_blank\" href=https://colab.research.google.com/notebooks/data_table.ipynb>data table notebook</a>'\n",
              "            + ' to learn more about interactive tables.';\n",
              "          element.innerHTML = '';\n",
              "          dataTable['output_type'] = 'display_data';\n",
              "          await google.colab.output.renderOutput(dataTable, element);\n",
              "          const docLink = document.createElement('div');\n",
              "          docLink.innerHTML = docLinkHtml;\n",
              "          element.appendChild(docLink);\n",
              "        }\n",
              "      </script>\n",
              "    </div>\n",
              "  </div>\n",
              "  "
            ]
          },
          "metadata": {},
          "execution_count": 46
        }
      ]
    },
    {
      "cell_type": "markdown",
      "metadata": {
        "id": "2UZHY5JvynkP"
      },
      "source": [
        "## Ejercicio 1 "
      ]
    },
    {
      "cell_type": "markdown",
      "metadata": {
        "id": "uTop3U6WynkP"
      },
      "source": [
        "Explorar descriptivamente el dataset de estimaciones agrícolas (https://datos.gob.ar/dataset/agroindustria-agricultura---estimaciones-agricolas) usando los elementos aprendidos en la clase 2, respondiendo las siguientes preguntas o mostrando:\n",
        "\n",
        "* ¿Cuál es la producción total en toneladas estimada de todos los cultivos en la Argentina, cada año?\n",
        "* ¿Cómo se distribuye el rendimiento (kg por hectárea) estimado promedio del cultivo de soja entre los departamentos que la siembran? ¿Qué tipo de distribución probabilística tiene? ¿Cuál es (y en qué departamento está) el rendimiento mínimo, mediano y máximo? ¿Cuál es el rendimiento promedio? ¿Hay valores potencialmente anómalos?\n",
        "* ¿Cómo se distribuye la superficie sembrada de Papa? ¿Es una distribución probabilística similar a la de la soja? ¿El rendimiento en kg producidos por hectárea es similar entre los departamentos que la cultivan, se distribuye más o menos \"equitativamente\" que el de la soja? ¿Hay valores potencialmente anómalos?\n",
        "* Generá una tabla donde cada cultivo sea una columna, cada fila un año (una campaña) y los valores sean la producción total."
      ]
    },
    {
      "cell_type": "code",
      "execution_count": 47,
      "metadata": {
        "id": "KFUlnBNJynkR"
      },
      "outputs": [],
      "source": [
        "estimaciones.columns = estimaciones.columns.str.strip()\n",
        "total_toneladas = estimaciones[estimaciones.produccion > 0].pivot_table(\n",
        "    index = ['provincia'],\n",
        "    columns = ['campaña'],\n",
        "    values = ['produccion'],\n",
        "    aggfunc = 'count'\n",
        ")\n",
        "total_toneladas = total_toneladas.fillna('0')"
      ]
    },
    {
      "cell_type": "code",
      "source": [
        ""
      ],
      "metadata": {
        "id": "WJZFF4EdOHCG"
      },
      "execution_count": null,
      "outputs": []
    },
    {
      "cell_type": "code",
      "source": [
        "#total_toneladas['promedio_anual'] = total_toneladas.loc[['produccion','y']].sum(axis=1)\n",
        "#ESTAS TRATANDO DE CREAR UNA COLUMNA NUEVA CON EL PROMEDIO ANUAL POR PROVINCIA"
      ],
      "metadata": {
        "id": "_Pdeu-SII2eF"
      },
      "execution_count": 42,
      "outputs": []
    },
    {
      "cell_type": "code",
      "execution_count": 48,
      "metadata": {
        "id": "07Xg3aTPynkR",
        "outputId": "ed18aa83-6832-4e46-c0c2-d516ce77f53d",
        "colab": {
          "base_uri": "https://localhost:8080/",
          "height": 380
        }
      },
      "outputs": [
        {
          "output_type": "execute_result",
          "data": {
            "text/plain": [
              "             produccion                                                    \\\n",
              "campaña       1969/1970 1970/1971 1971/1972 1972/1973 1973/1974 1974/1975   \n",
              "provincia                                                                   \n",
              "BUENOS AIRES     1103.0    1078.0    1056.0    1022.0    1024.0     978.0   \n",
              "CATAMARCA         135.0     139.0     123.0      49.0      56.0      57.0   \n",
              "CHACO             212.0     203.0     215.0     217.0     213.0     207.0   \n",
              "CHUBUT             22.0      17.0      17.0      17.0      17.0      17.0   \n",
              "CORDOBA           212.0     196.0     214.0     224.0     241.0     226.0   \n",
              "\n",
              "                                                      ...                      \\\n",
              "campaña      1975/1976 1976/1977 1977/1978 1978/1979  ... 2009/2010 2010/2017   \n",
              "provincia                                             ...                       \n",
              "BUENOS AIRES    1001.0    1044.0    1058.0    1067.0  ...     712.0     724.0   \n",
              "CATAMARCA         66.0      67.0      70.0      69.0  ...      10.0      10.0   \n",
              "CHACO            194.0     175.0     204.0     183.0  ...     123.0     151.0   \n",
              "CHUBUT            17.0      17.0      17.0      17.0  ...         0         0   \n",
              "CORDOBA          232.0     227.0     224.0     222.0  ...     124.0     122.0   \n",
              "\n",
              "                                                                          \\\n",
              "campaña      2011/2012 2012/2013 2013/2014 2014/2015 2015/2016 2016/2017   \n",
              "provincia                                                                  \n",
              "BUENOS AIRES     735.0     756.0     755.0     800.0     765.0     838.0   \n",
              "CATAMARCA         10.0       9.0      11.0       9.0       9.0       9.0   \n",
              "CHACO            156.0     145.0     130.0     121.0     118.0     116.0   \n",
              "CHUBUT               0         0         0         0         0         0   \n",
              "CORDOBA          126.0     135.0     144.0     137.0     141.0     155.0   \n",
              "\n",
              "                                  \n",
              "campaña      2017/2018 2018/2019  \n",
              "provincia                         \n",
              "BUENOS AIRES     830.0     458.0  \n",
              "CATAMARCA         11.0       2.0  \n",
              "CHACO            112.0      37.0  \n",
              "CHUBUT               0         0  \n",
              "CORDOBA          149.0      67.0  \n",
              "\n",
              "[5 rows x 50 columns]"
            ],
            "text/html": [
              "\n",
              "  <div id=\"df-831419cd-6629-4cda-975b-9aab4408d2cc\">\n",
              "    <div class=\"colab-df-container\">\n",
              "      <div>\n",
              "<style scoped>\n",
              "    .dataframe tbody tr th:only-of-type {\n",
              "        vertical-align: middle;\n",
              "    }\n",
              "\n",
              "    .dataframe tbody tr th {\n",
              "        vertical-align: top;\n",
              "    }\n",
              "\n",
              "    .dataframe thead tr th {\n",
              "        text-align: left;\n",
              "    }\n",
              "\n",
              "    .dataframe thead tr:last-of-type th {\n",
              "        text-align: right;\n",
              "    }\n",
              "</style>\n",
              "<table border=\"1\" class=\"dataframe\">\n",
              "  <thead>\n",
              "    <tr>\n",
              "      <th></th>\n",
              "      <th colspan=\"21\" halign=\"left\">produccion</th>\n",
              "    </tr>\n",
              "    <tr>\n",
              "      <th>campaña</th>\n",
              "      <th>1969/1970</th>\n",
              "      <th>1970/1971</th>\n",
              "      <th>1971/1972</th>\n",
              "      <th>1972/1973</th>\n",
              "      <th>1973/1974</th>\n",
              "      <th>1974/1975</th>\n",
              "      <th>1975/1976</th>\n",
              "      <th>1976/1977</th>\n",
              "      <th>1977/1978</th>\n",
              "      <th>1978/1979</th>\n",
              "      <th>...</th>\n",
              "      <th>2009/2010</th>\n",
              "      <th>2010/2017</th>\n",
              "      <th>2011/2012</th>\n",
              "      <th>2012/2013</th>\n",
              "      <th>2013/2014</th>\n",
              "      <th>2014/2015</th>\n",
              "      <th>2015/2016</th>\n",
              "      <th>2016/2017</th>\n",
              "      <th>2017/2018</th>\n",
              "      <th>2018/2019</th>\n",
              "    </tr>\n",
              "    <tr>\n",
              "      <th>provincia</th>\n",
              "      <th></th>\n",
              "      <th></th>\n",
              "      <th></th>\n",
              "      <th></th>\n",
              "      <th></th>\n",
              "      <th></th>\n",
              "      <th></th>\n",
              "      <th></th>\n",
              "      <th></th>\n",
              "      <th></th>\n",
              "      <th></th>\n",
              "      <th></th>\n",
              "      <th></th>\n",
              "      <th></th>\n",
              "      <th></th>\n",
              "      <th></th>\n",
              "      <th></th>\n",
              "      <th></th>\n",
              "      <th></th>\n",
              "      <th></th>\n",
              "      <th></th>\n",
              "    </tr>\n",
              "  </thead>\n",
              "  <tbody>\n",
              "    <tr>\n",
              "      <th>BUENOS AIRES</th>\n",
              "      <td>1103.0</td>\n",
              "      <td>1078.0</td>\n",
              "      <td>1056.0</td>\n",
              "      <td>1022.0</td>\n",
              "      <td>1024.0</td>\n",
              "      <td>978.0</td>\n",
              "      <td>1001.0</td>\n",
              "      <td>1044.0</td>\n",
              "      <td>1058.0</td>\n",
              "      <td>1067.0</td>\n",
              "      <td>...</td>\n",
              "      <td>712.0</td>\n",
              "      <td>724.0</td>\n",
              "      <td>735.0</td>\n",
              "      <td>756.0</td>\n",
              "      <td>755.0</td>\n",
              "      <td>800.0</td>\n",
              "      <td>765.0</td>\n",
              "      <td>838.0</td>\n",
              "      <td>830.0</td>\n",
              "      <td>458.0</td>\n",
              "    </tr>\n",
              "    <tr>\n",
              "      <th>CATAMARCA</th>\n",
              "      <td>135.0</td>\n",
              "      <td>139.0</td>\n",
              "      <td>123.0</td>\n",
              "      <td>49.0</td>\n",
              "      <td>56.0</td>\n",
              "      <td>57.0</td>\n",
              "      <td>66.0</td>\n",
              "      <td>67.0</td>\n",
              "      <td>70.0</td>\n",
              "      <td>69.0</td>\n",
              "      <td>...</td>\n",
              "      <td>10.0</td>\n",
              "      <td>10.0</td>\n",
              "      <td>10.0</td>\n",
              "      <td>9.0</td>\n",
              "      <td>11.0</td>\n",
              "      <td>9.0</td>\n",
              "      <td>9.0</td>\n",
              "      <td>9.0</td>\n",
              "      <td>11.0</td>\n",
              "      <td>2.0</td>\n",
              "    </tr>\n",
              "    <tr>\n",
              "      <th>CHACO</th>\n",
              "      <td>212.0</td>\n",
              "      <td>203.0</td>\n",
              "      <td>215.0</td>\n",
              "      <td>217.0</td>\n",
              "      <td>213.0</td>\n",
              "      <td>207.0</td>\n",
              "      <td>194.0</td>\n",
              "      <td>175.0</td>\n",
              "      <td>204.0</td>\n",
              "      <td>183.0</td>\n",
              "      <td>...</td>\n",
              "      <td>123.0</td>\n",
              "      <td>151.0</td>\n",
              "      <td>156.0</td>\n",
              "      <td>145.0</td>\n",
              "      <td>130.0</td>\n",
              "      <td>121.0</td>\n",
              "      <td>118.0</td>\n",
              "      <td>116.0</td>\n",
              "      <td>112.0</td>\n",
              "      <td>37.0</td>\n",
              "    </tr>\n",
              "    <tr>\n",
              "      <th>CHUBUT</th>\n",
              "      <td>22.0</td>\n",
              "      <td>17.0</td>\n",
              "      <td>17.0</td>\n",
              "      <td>17.0</td>\n",
              "      <td>17.0</td>\n",
              "      <td>17.0</td>\n",
              "      <td>17.0</td>\n",
              "      <td>17.0</td>\n",
              "      <td>17.0</td>\n",
              "      <td>17.0</td>\n",
              "      <td>...</td>\n",
              "      <td>0</td>\n",
              "      <td>0</td>\n",
              "      <td>0</td>\n",
              "      <td>0</td>\n",
              "      <td>0</td>\n",
              "      <td>0</td>\n",
              "      <td>0</td>\n",
              "      <td>0</td>\n",
              "      <td>0</td>\n",
              "      <td>0</td>\n",
              "    </tr>\n",
              "    <tr>\n",
              "      <th>CORDOBA</th>\n",
              "      <td>212.0</td>\n",
              "      <td>196.0</td>\n",
              "      <td>214.0</td>\n",
              "      <td>224.0</td>\n",
              "      <td>241.0</td>\n",
              "      <td>226.0</td>\n",
              "      <td>232.0</td>\n",
              "      <td>227.0</td>\n",
              "      <td>224.0</td>\n",
              "      <td>222.0</td>\n",
              "      <td>...</td>\n",
              "      <td>124.0</td>\n",
              "      <td>122.0</td>\n",
              "      <td>126.0</td>\n",
              "      <td>135.0</td>\n",
              "      <td>144.0</td>\n",
              "      <td>137.0</td>\n",
              "      <td>141.0</td>\n",
              "      <td>155.0</td>\n",
              "      <td>149.0</td>\n",
              "      <td>67.0</td>\n",
              "    </tr>\n",
              "  </tbody>\n",
              "</table>\n",
              "<p>5 rows × 50 columns</p>\n",
              "</div>\n",
              "      <button class=\"colab-df-convert\" onclick=\"convertToInteractive('df-831419cd-6629-4cda-975b-9aab4408d2cc')\"\n",
              "              title=\"Convert this dataframe to an interactive table.\"\n",
              "              style=\"display:none;\">\n",
              "        \n",
              "  <svg xmlns=\"http://www.w3.org/2000/svg\" height=\"24px\"viewBox=\"0 0 24 24\"\n",
              "       width=\"24px\">\n",
              "    <path d=\"M0 0h24v24H0V0z\" fill=\"none\"/>\n",
              "    <path d=\"M18.56 5.44l.94 2.06.94-2.06 2.06-.94-2.06-.94-.94-2.06-.94 2.06-2.06.94zm-11 1L8.5 8.5l.94-2.06 2.06-.94-2.06-.94L8.5 2.5l-.94 2.06-2.06.94zm10 10l.94 2.06.94-2.06 2.06-.94-2.06-.94-.94-2.06-.94 2.06-2.06.94z\"/><path d=\"M17.41 7.96l-1.37-1.37c-.4-.4-.92-.59-1.43-.59-.52 0-1.04.2-1.43.59L10.3 9.45l-7.72 7.72c-.78.78-.78 2.05 0 2.83L4 21.41c.39.39.9.59 1.41.59.51 0 1.02-.2 1.41-.59l7.78-7.78 2.81-2.81c.8-.78.8-2.07 0-2.86zM5.41 20L4 18.59l7.72-7.72 1.47 1.35L5.41 20z\"/>\n",
              "  </svg>\n",
              "      </button>\n",
              "      \n",
              "  <style>\n",
              "    .colab-df-container {\n",
              "      display:flex;\n",
              "      flex-wrap:wrap;\n",
              "      gap: 12px;\n",
              "    }\n",
              "\n",
              "    .colab-df-convert {\n",
              "      background-color: #E8F0FE;\n",
              "      border: none;\n",
              "      border-radius: 50%;\n",
              "      cursor: pointer;\n",
              "      display: none;\n",
              "      fill: #1967D2;\n",
              "      height: 32px;\n",
              "      padding: 0 0 0 0;\n",
              "      width: 32px;\n",
              "    }\n",
              "\n",
              "    .colab-df-convert:hover {\n",
              "      background-color: #E2EBFA;\n",
              "      box-shadow: 0px 1px 2px rgba(60, 64, 67, 0.3), 0px 1px 3px 1px rgba(60, 64, 67, 0.15);\n",
              "      fill: #174EA6;\n",
              "    }\n",
              "\n",
              "    [theme=dark] .colab-df-convert {\n",
              "      background-color: #3B4455;\n",
              "      fill: #D2E3FC;\n",
              "    }\n",
              "\n",
              "    [theme=dark] .colab-df-convert:hover {\n",
              "      background-color: #434B5C;\n",
              "      box-shadow: 0px 1px 3px 1px rgba(0, 0, 0, 0.15);\n",
              "      filter: drop-shadow(0px 1px 2px rgba(0, 0, 0, 0.3));\n",
              "      fill: #FFFFFF;\n",
              "    }\n",
              "  </style>\n",
              "\n",
              "      <script>\n",
              "        const buttonEl =\n",
              "          document.querySelector('#df-831419cd-6629-4cda-975b-9aab4408d2cc button.colab-df-convert');\n",
              "        buttonEl.style.display =\n",
              "          google.colab.kernel.accessAllowed ? 'block' : 'none';\n",
              "\n",
              "        async function convertToInteractive(key) {\n",
              "          const element = document.querySelector('#df-831419cd-6629-4cda-975b-9aab4408d2cc');\n",
              "          const dataTable =\n",
              "            await google.colab.kernel.invokeFunction('convertToInteractive',\n",
              "                                                     [key], {});\n",
              "          if (!dataTable) return;\n",
              "\n",
              "          const docLinkHtml = 'Like what you see? Visit the ' +\n",
              "            '<a target=\"_blank\" href=https://colab.research.google.com/notebooks/data_table.ipynb>data table notebook</a>'\n",
              "            + ' to learn more about interactive tables.';\n",
              "          element.innerHTML = '';\n",
              "          dataTable['output_type'] = 'display_data';\n",
              "          await google.colab.output.renderOutput(dataTable, element);\n",
              "          const docLink = document.createElement('div');\n",
              "          docLink.innerHTML = docLinkHtml;\n",
              "          element.appendChild(docLink);\n",
              "        }\n",
              "      </script>\n",
              "    </div>\n",
              "  </div>\n",
              "  "
            ]
          },
          "metadata": {},
          "execution_count": 48
        }
      ],
      "source": [
        "total_toneladas.head()"
      ]
    },
    {
      "cell_type": "code",
      "execution_count": null,
      "metadata": {
        "id": "7vEd1ByxynkS"
      },
      "outputs": [],
      "source": [
        ""
      ]
    },
    {
      "cell_type": "code",
      "execution_count": null,
      "metadata": {
        "id": "xKwOhLYNynkS"
      },
      "outputs": [],
      "source": [
        ""
      ]
    },
    {
      "cell_type": "code",
      "execution_count": null,
      "metadata": {
        "id": "FNOz4nYXynkT"
      },
      "outputs": [],
      "source": [
        ""
      ]
    },
    {
      "cell_type": "code",
      "execution_count": null,
      "metadata": {
        "id": "oZBYu5aaynkT"
      },
      "outputs": [],
      "source": [
        ""
      ]
    },
    {
      "cell_type": "code",
      "execution_count": null,
      "metadata": {
        "id": "6qYCW8DSynkT"
      },
      "outputs": [],
      "source": [
        ""
      ]
    },
    {
      "cell_type": "code",
      "execution_count": null,
      "metadata": {
        "id": "HI11lTb1ynkU"
      },
      "outputs": [],
      "source": [
        ""
      ]
    },
    {
      "cell_type": "code",
      "execution_count": null,
      "metadata": {
        "id": "01S7d2g6ynkU"
      },
      "outputs": [],
      "source": [
        ""
      ]
    },
    {
      "cell_type": "code",
      "execution_count": null,
      "metadata": {
        "id": "m8LBN-IiynkU"
      },
      "outputs": [],
      "source": [
        ""
      ]
    },
    {
      "cell_type": "code",
      "execution_count": null,
      "metadata": {
        "id": "iXK-4oMXynkV"
      },
      "outputs": [],
      "source": [
        ""
      ]
    },
    {
      "cell_type": "code",
      "execution_count": null,
      "metadata": {
        "id": "M9p4QywRynkV"
      },
      "outputs": [],
      "source": [
        ""
      ]
    }
  ],
  "metadata": {
    "kernelspec": {
      "display_name": "conda_python3",
      "language": "python",
      "name": "conda_python3"
    },
    "language_info": {
      "codemirror_mode": {
        "name": "ipython",
        "version": 3
      },
      "file_extension": ".py",
      "mimetype": "text/x-python",
      "name": "python",
      "nbconvert_exporter": "python",
      "pygments_lexer": "ipython3",
      "version": "3.6.10"
    },
    "toc": {
      "base_numbering": 1,
      "nav_menu": {},
      "number_sections": true,
      "sideBar": true,
      "skip_h1_title": false,
      "title_cell": "Table of Contents",
      "title_sidebar": "Contents",
      "toc_cell": false,
      "toc_position": {},
      "toc_section_display": true,
      "toc_window_display": false
    },
    "colab": {
      "name": "clase-2-ejercicios.ipynb",
      "provenance": []
    }
  },
  "nbformat": 4,
  "nbformat_minor": 0
}