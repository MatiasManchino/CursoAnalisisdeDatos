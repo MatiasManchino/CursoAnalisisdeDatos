{
  "cells": [
    {
      "cell_type": "markdown",
      "metadata": {
        "id": "BIl-9RmRCbLb"
      },
      "source": [
        "<a href=\"https://colab.research.google.com/github/MatiasManchino/CursoAnalisisdeDatos/blob/main/ejer1.ipynb\"> <img src='https://colab.research.google.com/assets/colab-badge.svg' /> </a>\n",
        "<div align=\"center\"> Recordá abrir en una nueva pestaña </div>\n",
        "\n",
        "\n",
        "Para este ejercicio vamos a importar un conjunto de datos con el listado de colegios públicos de Bogotá del año 2016"
      ]
    },
    {
      "cell_type": "markdown",
      "metadata": {
        "id": "jDtEB0FNCbLk"
      },
      "source": [
        "# Ejercicios Pandas I"
      ]
    },
    {
      "cell_type": "code",
      "execution_count": 1,
      "metadata": {
        "id": "VJrs6LozCbLm"
      },
      "outputs": [],
      "source": [
        "import pandas as pd"
      ]
    },
    {
      "cell_type": "code",
      "execution_count": 3,
      "metadata": {
        "id": "yTTb1lzyCbLn"
      },
      "outputs": [],
      "source": [
        "df = pd.read_csv('https://www.datos.gov.co/api/views/qijw-htwa/rows.csv?accessType=DOWNLOAD')"
      ]
    },
    {
      "cell_type": "code",
      "source": [
        "df.head()"
      ],
      "metadata": {
        "id": "POQWqMJcGyD8",
        "outputId": "9e2c826a-ebe7-45a1-c2a4-ab67b08e3242",
        "colab": {
          "base_uri": "https://localhost:8080/",
          "height": 445
        }
      },
      "execution_count": 21,
      "outputs": [
        {
          "output_type": "execute_result",
          "data": {
            "text/plain": [
              "    año secretaria                              nombreestablecimiento    zona  \\\n",
              "0  2016     BOGOTA  INST DE BTO TEC COMERCIAL PITAGORAS           ...  URBANA   \n",
              "1  2016     BOGOTA                 GIMNASIO INFANTIL FEDERICO FROEBEL  URBANA   \n",
              "2  2016     BOGOTA             GIMNASIO INFANTIL LOS NIÑOS DEL MAÑANA  URBANA   \n",
              "3  2016     BOGOTA               COLEGIO FRANCISCO PRIMERO S.S. (IED)  URBANA   \n",
              "4  2016     BOGOTA  COL SAN JUAN VIANETH                          ...  URBANA   \n",
              "\n",
              "           direccion             telefono                     nombre_Rector  \\\n",
              "0         KR 5 11 67  5665677   / 3429092                YOLANDA ARIAS CRUZ   \n",
              "1  CL 32 SUR 52 A 54              7100349              SANDRA MILENA MENDEZ   \n",
              "2     CL 134 D 47 27              6010350           CLAUDIA BOCACHICA SAENZ   \n",
              "3        KR 28 63 64   2126019 -- 2481271      JOSE CUSTODIO GALARZA MORENO   \n",
              "4    KR 2 C 3 18 SUR   2804738 -- 4714934  GLORIA ESPERANZA CHUQUIN LAISECA   \n",
              "\n",
              "    tipo_Establecimiento etnias  sector  ...  numero_de_Sedes estado  \\\n",
              "0  INSTITUCION EDUCATIVA    NaN     NaN  ...                1    NaN   \n",
              "1       CENTRO EDUCATIVO    NaN     NaN  ...                1    NaN   \n",
              "2  INSTITUCION EDUCATIVA    NaN     NaN  ...                1    NaN   \n",
              "3  INSTITUCION EDUCATIVA    NaN     NaN  ...                4    NaN   \n",
              "4       CENTRO EDUCATIVO    NaN     NaN  ...                1    NaN   \n",
              "\n",
              "  prestador_de_Servicio  propiedad_Planta_Fisica  resguardo  \\\n",
              "0       PERSONA NATURAL          PERSONA NATURAL  NO APLICA   \n",
              "1       PERSONA NATURAL          PERSONA NATURAL  NO APLICA   \n",
              "2       PERSONA NATURAL          PERSONA NATURAL  NO APLICA   \n",
              "3               OFICIAL                  OFICIAL  NO APLICA   \n",
              "4       PERSONA NATURAL          PERSONA NATURAL  NO APLICA   \n",
              "\n",
              "  matricula_Contratada calendario internado estrato_Socio_Economico  \\\n",
              "0                   NO          A       NaN                     NaN   \n",
              "1                   NO          A       NaN                     NaN   \n",
              "2                   NO          A       NaN                     NaN   \n",
              "3                   NO          A       NaN                     NaN   \n",
              "4                   NO          A       NaN                     NaN   \n",
              "\n",
              "                                  correo_Electronico  \n",
              "0                         pitagoras@pitagoras.edu.co  \n",
              "1                             gimfedebel@hotmail.com  \n",
              "2                claudialindenibocachica@hotmail.com  \n",
              "3                          cedalemania12@redp.edu.co  \n",
              "4  colegiosanjuanviateh@hotmail.com -- colegiosan...  \n",
              "\n",
              "[5 rows x 30 columns]"
            ],
            "text/html": [
              "\n",
              "  <div id=\"df-989fa8f6-a24d-4fa0-80b4-87d3f96a0208\">\n",
              "    <div class=\"colab-df-container\">\n",
              "      <div>\n",
              "<style scoped>\n",
              "    .dataframe tbody tr th:only-of-type {\n",
              "        vertical-align: middle;\n",
              "    }\n",
              "\n",
              "    .dataframe tbody tr th {\n",
              "        vertical-align: top;\n",
              "    }\n",
              "\n",
              "    .dataframe thead th {\n",
              "        text-align: right;\n",
              "    }\n",
              "</style>\n",
              "<table border=\"1\" class=\"dataframe\">\n",
              "  <thead>\n",
              "    <tr style=\"text-align: right;\">\n",
              "      <th></th>\n",
              "      <th>año</th>\n",
              "      <th>secretaria</th>\n",
              "      <th>nombreestablecimiento</th>\n",
              "      <th>zona</th>\n",
              "      <th>direccion</th>\n",
              "      <th>telefono</th>\n",
              "      <th>nombre_Rector</th>\n",
              "      <th>tipo_Establecimiento</th>\n",
              "      <th>etnias</th>\n",
              "      <th>sector</th>\n",
              "      <th>...</th>\n",
              "      <th>numero_de_Sedes</th>\n",
              "      <th>estado</th>\n",
              "      <th>prestador_de_Servicio</th>\n",
              "      <th>propiedad_Planta_Fisica</th>\n",
              "      <th>resguardo</th>\n",
              "      <th>matricula_Contratada</th>\n",
              "      <th>calendario</th>\n",
              "      <th>internado</th>\n",
              "      <th>estrato_Socio_Economico</th>\n",
              "      <th>correo_Electronico</th>\n",
              "    </tr>\n",
              "  </thead>\n",
              "  <tbody>\n",
              "    <tr>\n",
              "      <th>0</th>\n",
              "      <td>2016</td>\n",
              "      <td>BOGOTA</td>\n",
              "      <td>INST DE BTO TEC COMERCIAL PITAGORAS           ...</td>\n",
              "      <td>URBANA</td>\n",
              "      <td>KR 5 11 67</td>\n",
              "      <td>5665677   / 3429092</td>\n",
              "      <td>YOLANDA ARIAS CRUZ</td>\n",
              "      <td>INSTITUCION EDUCATIVA</td>\n",
              "      <td>NaN</td>\n",
              "      <td>NaN</td>\n",
              "      <td>...</td>\n",
              "      <td>1</td>\n",
              "      <td>NaN</td>\n",
              "      <td>PERSONA NATURAL</td>\n",
              "      <td>PERSONA NATURAL</td>\n",
              "      <td>NO APLICA</td>\n",
              "      <td>NO</td>\n",
              "      <td>A</td>\n",
              "      <td>NaN</td>\n",
              "      <td>NaN</td>\n",
              "      <td>pitagoras@pitagoras.edu.co</td>\n",
              "    </tr>\n",
              "    <tr>\n",
              "      <th>1</th>\n",
              "      <td>2016</td>\n",
              "      <td>BOGOTA</td>\n",
              "      <td>GIMNASIO INFANTIL FEDERICO FROEBEL</td>\n",
              "      <td>URBANA</td>\n",
              "      <td>CL 32 SUR 52 A 54</td>\n",
              "      <td>7100349</td>\n",
              "      <td>SANDRA MILENA MENDEZ</td>\n",
              "      <td>CENTRO EDUCATIVO</td>\n",
              "      <td>NaN</td>\n",
              "      <td>NaN</td>\n",
              "      <td>...</td>\n",
              "      <td>1</td>\n",
              "      <td>NaN</td>\n",
              "      <td>PERSONA NATURAL</td>\n",
              "      <td>PERSONA NATURAL</td>\n",
              "      <td>NO APLICA</td>\n",
              "      <td>NO</td>\n",
              "      <td>A</td>\n",
              "      <td>NaN</td>\n",
              "      <td>NaN</td>\n",
              "      <td>gimfedebel@hotmail.com</td>\n",
              "    </tr>\n",
              "    <tr>\n",
              "      <th>2</th>\n",
              "      <td>2016</td>\n",
              "      <td>BOGOTA</td>\n",
              "      <td>GIMNASIO INFANTIL LOS NIÑOS DEL MAÑANA</td>\n",
              "      <td>URBANA</td>\n",
              "      <td>CL 134 D 47 27</td>\n",
              "      <td>6010350</td>\n",
              "      <td>CLAUDIA BOCACHICA SAENZ</td>\n",
              "      <td>INSTITUCION EDUCATIVA</td>\n",
              "      <td>NaN</td>\n",
              "      <td>NaN</td>\n",
              "      <td>...</td>\n",
              "      <td>1</td>\n",
              "      <td>NaN</td>\n",
              "      <td>PERSONA NATURAL</td>\n",
              "      <td>PERSONA NATURAL</td>\n",
              "      <td>NO APLICA</td>\n",
              "      <td>NO</td>\n",
              "      <td>A</td>\n",
              "      <td>NaN</td>\n",
              "      <td>NaN</td>\n",
              "      <td>claudialindenibocachica@hotmail.com</td>\n",
              "    </tr>\n",
              "    <tr>\n",
              "      <th>3</th>\n",
              "      <td>2016</td>\n",
              "      <td>BOGOTA</td>\n",
              "      <td>COLEGIO FRANCISCO PRIMERO S.S. (IED)</td>\n",
              "      <td>URBANA</td>\n",
              "      <td>KR 28 63 64</td>\n",
              "      <td>2126019 -- 2481271</td>\n",
              "      <td>JOSE CUSTODIO GALARZA MORENO</td>\n",
              "      <td>INSTITUCION EDUCATIVA</td>\n",
              "      <td>NaN</td>\n",
              "      <td>NaN</td>\n",
              "      <td>...</td>\n",
              "      <td>4</td>\n",
              "      <td>NaN</td>\n",
              "      <td>OFICIAL</td>\n",
              "      <td>OFICIAL</td>\n",
              "      <td>NO APLICA</td>\n",
              "      <td>NO</td>\n",
              "      <td>A</td>\n",
              "      <td>NaN</td>\n",
              "      <td>NaN</td>\n",
              "      <td>cedalemania12@redp.edu.co</td>\n",
              "    </tr>\n",
              "    <tr>\n",
              "      <th>4</th>\n",
              "      <td>2016</td>\n",
              "      <td>BOGOTA</td>\n",
              "      <td>COL SAN JUAN VIANETH                          ...</td>\n",
              "      <td>URBANA</td>\n",
              "      <td>KR 2 C 3 18 SUR</td>\n",
              "      <td>2804738 -- 4714934</td>\n",
              "      <td>GLORIA ESPERANZA CHUQUIN LAISECA</td>\n",
              "      <td>CENTRO EDUCATIVO</td>\n",
              "      <td>NaN</td>\n",
              "      <td>NaN</td>\n",
              "      <td>...</td>\n",
              "      <td>1</td>\n",
              "      <td>NaN</td>\n",
              "      <td>PERSONA NATURAL</td>\n",
              "      <td>PERSONA NATURAL</td>\n",
              "      <td>NO APLICA</td>\n",
              "      <td>NO</td>\n",
              "      <td>A</td>\n",
              "      <td>NaN</td>\n",
              "      <td>NaN</td>\n",
              "      <td>colegiosanjuanviateh@hotmail.com -- colegiosan...</td>\n",
              "    </tr>\n",
              "  </tbody>\n",
              "</table>\n",
              "<p>5 rows × 30 columns</p>\n",
              "</div>\n",
              "      <button class=\"colab-df-convert\" onclick=\"convertToInteractive('df-989fa8f6-a24d-4fa0-80b4-87d3f96a0208')\"\n",
              "              title=\"Convert this dataframe to an interactive table.\"\n",
              "              style=\"display:none;\">\n",
              "        \n",
              "  <svg xmlns=\"http://www.w3.org/2000/svg\" height=\"24px\"viewBox=\"0 0 24 24\"\n",
              "       width=\"24px\">\n",
              "    <path d=\"M0 0h24v24H0V0z\" fill=\"none\"/>\n",
              "    <path d=\"M18.56 5.44l.94 2.06.94-2.06 2.06-.94-2.06-.94-.94-2.06-.94 2.06-2.06.94zm-11 1L8.5 8.5l.94-2.06 2.06-.94-2.06-.94L8.5 2.5l-.94 2.06-2.06.94zm10 10l.94 2.06.94-2.06 2.06-.94-2.06-.94-.94-2.06-.94 2.06-2.06.94z\"/><path d=\"M17.41 7.96l-1.37-1.37c-.4-.4-.92-.59-1.43-.59-.52 0-1.04.2-1.43.59L10.3 9.45l-7.72 7.72c-.78.78-.78 2.05 0 2.83L4 21.41c.39.39.9.59 1.41.59.51 0 1.02-.2 1.41-.59l7.78-7.78 2.81-2.81c.8-.78.8-2.07 0-2.86zM5.41 20L4 18.59l7.72-7.72 1.47 1.35L5.41 20z\"/>\n",
              "  </svg>\n",
              "      </button>\n",
              "      \n",
              "  <style>\n",
              "    .colab-df-container {\n",
              "      display:flex;\n",
              "      flex-wrap:wrap;\n",
              "      gap: 12px;\n",
              "    }\n",
              "\n",
              "    .colab-df-convert {\n",
              "      background-color: #E8F0FE;\n",
              "      border: none;\n",
              "      border-radius: 50%;\n",
              "      cursor: pointer;\n",
              "      display: none;\n",
              "      fill: #1967D2;\n",
              "      height: 32px;\n",
              "      padding: 0 0 0 0;\n",
              "      width: 32px;\n",
              "    }\n",
              "\n",
              "    .colab-df-convert:hover {\n",
              "      background-color: #E2EBFA;\n",
              "      box-shadow: 0px 1px 2px rgba(60, 64, 67, 0.3), 0px 1px 3px 1px rgba(60, 64, 67, 0.15);\n",
              "      fill: #174EA6;\n",
              "    }\n",
              "\n",
              "    [theme=dark] .colab-df-convert {\n",
              "      background-color: #3B4455;\n",
              "      fill: #D2E3FC;\n",
              "    }\n",
              "\n",
              "    [theme=dark] .colab-df-convert:hover {\n",
              "      background-color: #434B5C;\n",
              "      box-shadow: 0px 1px 3px 1px rgba(0, 0, 0, 0.15);\n",
              "      filter: drop-shadow(0px 1px 2px rgba(0, 0, 0, 0.3));\n",
              "      fill: #FFFFFF;\n",
              "    }\n",
              "  </style>\n",
              "\n",
              "      <script>\n",
              "        const buttonEl =\n",
              "          document.querySelector('#df-989fa8f6-a24d-4fa0-80b4-87d3f96a0208 button.colab-df-convert');\n",
              "        buttonEl.style.display =\n",
              "          google.colab.kernel.accessAllowed ? 'block' : 'none';\n",
              "\n",
              "        async function convertToInteractive(key) {\n",
              "          const element = document.querySelector('#df-989fa8f6-a24d-4fa0-80b4-87d3f96a0208');\n",
              "          const dataTable =\n",
              "            await google.colab.kernel.invokeFunction('convertToInteractive',\n",
              "                                                     [key], {});\n",
              "          if (!dataTable) return;\n",
              "\n",
              "          const docLinkHtml = 'Like what you see? Visit the ' +\n",
              "            '<a target=\"_blank\" href=https://colab.research.google.com/notebooks/data_table.ipynb>data table notebook</a>'\n",
              "            + ' to learn more about interactive tables.';\n",
              "          element.innerHTML = '';\n",
              "          dataTable['output_type'] = 'display_data';\n",
              "          await google.colab.output.renderOutput(dataTable, element);\n",
              "          const docLink = document.createElement('div');\n",
              "          docLink.innerHTML = docLinkHtml;\n",
              "          element.appendChild(docLink);\n",
              "        }\n",
              "      </script>\n",
              "    </div>\n",
              "  </div>\n",
              "  "
            ]
          },
          "metadata": {},
          "execution_count": 21
        },
        {
          "output_type": "stream",
          "name": "stdout",
          "text": [
            "Warning: Total number of columns (30) exceeds max_columns (20) limiting to first (20) columns.\n"
          ]
        }
      ]
    },
    {
      "cell_type": "markdown",
      "metadata": {
        "id": "-0lQWlqSCbLo"
      },
      "source": [
        "¿Cuáles son las columnas? ¿Cuántas filas tiene?"
      ]
    },
    {
      "cell_type": "code",
      "execution_count": 19,
      "metadata": {
        "id": "r_P5zsGkCbLp",
        "outputId": "524195aa-d9f1-4128-e922-d8bbbfcc279a",
        "colab": {
          "base_uri": "https://localhost:8080/"
        }
      },
      "outputs": [
        {
          "output_type": "stream",
          "name": "stdout",
          "text": [
            "Hay 2404 filas y 30 columnas\n"
          ]
        }
      ],
      "source": [
        "print('Hay', df.shape[0],'filas y',df.shape[1], 'columnas')"
      ]
    },
    {
      "cell_type": "markdown",
      "metadata": {
        "id": "XP_gqGX2CbLr"
      },
      "source": [
        "Seleccionen los colegios donde la propiedad de la planta física sea de una persona natural o comunidad religiosa."
      ]
    },
    {
      "cell_type": "markdown",
      "source": [
        ""
      ],
      "metadata": {
        "id": "LDWGRewLGQZF"
      }
    },
    {
      "cell_type": "code",
      "execution_count": null,
      "metadata": {
        "id": "175gKdWTCbLr"
      },
      "outputs": [],
      "source": [
        "propiedad = df.query('propiedad_Planta_Fisica == \"COMUNIDAD RELIGIOSA\" | \\\n",
        "                        propiedad_Planta_Fisica == \"PERSONA NATURAL\"')\n",
        "propiedad"
      ]
    },
    {
      "cell_type": "markdown",
      "metadata": {
        "id": "UjGPCzYUCbLs"
      },
      "source": [
        "¿Hay alguno de estos colegios que sea para capacidades excepcionales?"
      ]
    },
    {
      "cell_type": "code",
      "execution_count": 60,
      "metadata": {
        "id": "CcRPqkAlCbLs",
        "outputId": "00007198-e0f8-410c-fd88-44fb6168d1d0",
        "colab": {
          "base_uri": "https://localhost:8080/",
          "height": 112
        }
      },
      "outputs": [
        {
          "output_type": "execute_result",
          "data": {
            "text/plain": [
              "     propiedad_Planta_Fisica    capacidades_Excepcionales\n",
              "1367         PERSONA NATURAL  TALENTO SUBJETIVO/ARTÍSTICO\n",
              "2282         PERSONA NATURAL           TALENTO CIENTIFICO"
            ],
            "text/html": [
              "\n",
              "  <div id=\"df-824a766a-4421-4098-b7eb-7c4a77f9b6c2\">\n",
              "    <div class=\"colab-df-container\">\n",
              "      <div>\n",
              "<style scoped>\n",
              "    .dataframe tbody tr th:only-of-type {\n",
              "        vertical-align: middle;\n",
              "    }\n",
              "\n",
              "    .dataframe tbody tr th {\n",
              "        vertical-align: top;\n",
              "    }\n",
              "\n",
              "    .dataframe thead th {\n",
              "        text-align: right;\n",
              "    }\n",
              "</style>\n",
              "<table border=\"1\" class=\"dataframe\">\n",
              "  <thead>\n",
              "    <tr style=\"text-align: right;\">\n",
              "      <th></th>\n",
              "      <th>propiedad_Planta_Fisica</th>\n",
              "      <th>capacidades_Excepcionales</th>\n",
              "    </tr>\n",
              "  </thead>\n",
              "  <tbody>\n",
              "    <tr>\n",
              "      <th>1367</th>\n",
              "      <td>PERSONA NATURAL</td>\n",
              "      <td>TALENTO SUBJETIVO/ARTÍSTICO</td>\n",
              "    </tr>\n",
              "    <tr>\n",
              "      <th>2282</th>\n",
              "      <td>PERSONA NATURAL</td>\n",
              "      <td>TALENTO CIENTIFICO</td>\n",
              "    </tr>\n",
              "  </tbody>\n",
              "</table>\n",
              "</div>\n",
              "      <button class=\"colab-df-convert\" onclick=\"convertToInteractive('df-824a766a-4421-4098-b7eb-7c4a77f9b6c2')\"\n",
              "              title=\"Convert this dataframe to an interactive table.\"\n",
              "              style=\"display:none;\">\n",
              "        \n",
              "  <svg xmlns=\"http://www.w3.org/2000/svg\" height=\"24px\"viewBox=\"0 0 24 24\"\n",
              "       width=\"24px\">\n",
              "    <path d=\"M0 0h24v24H0V0z\" fill=\"none\"/>\n",
              "    <path d=\"M18.56 5.44l.94 2.06.94-2.06 2.06-.94-2.06-.94-.94-2.06-.94 2.06-2.06.94zm-11 1L8.5 8.5l.94-2.06 2.06-.94-2.06-.94L8.5 2.5l-.94 2.06-2.06.94zm10 10l.94 2.06.94-2.06 2.06-.94-2.06-.94-.94-2.06-.94 2.06-2.06.94z\"/><path d=\"M17.41 7.96l-1.37-1.37c-.4-.4-.92-.59-1.43-.59-.52 0-1.04.2-1.43.59L10.3 9.45l-7.72 7.72c-.78.78-.78 2.05 0 2.83L4 21.41c.39.39.9.59 1.41.59.51 0 1.02-.2 1.41-.59l7.78-7.78 2.81-2.81c.8-.78.8-2.07 0-2.86zM5.41 20L4 18.59l7.72-7.72 1.47 1.35L5.41 20z\"/>\n",
              "  </svg>\n",
              "      </button>\n",
              "      \n",
              "  <style>\n",
              "    .colab-df-container {\n",
              "      display:flex;\n",
              "      flex-wrap:wrap;\n",
              "      gap: 12px;\n",
              "    }\n",
              "\n",
              "    .colab-df-convert {\n",
              "      background-color: #E8F0FE;\n",
              "      border: none;\n",
              "      border-radius: 50%;\n",
              "      cursor: pointer;\n",
              "      display: none;\n",
              "      fill: #1967D2;\n",
              "      height: 32px;\n",
              "      padding: 0 0 0 0;\n",
              "      width: 32px;\n",
              "    }\n",
              "\n",
              "    .colab-df-convert:hover {\n",
              "      background-color: #E2EBFA;\n",
              "      box-shadow: 0px 1px 2px rgba(60, 64, 67, 0.3), 0px 1px 3px 1px rgba(60, 64, 67, 0.15);\n",
              "      fill: #174EA6;\n",
              "    }\n",
              "\n",
              "    [theme=dark] .colab-df-convert {\n",
              "      background-color: #3B4455;\n",
              "      fill: #D2E3FC;\n",
              "    }\n",
              "\n",
              "    [theme=dark] .colab-df-convert:hover {\n",
              "      background-color: #434B5C;\n",
              "      box-shadow: 0px 1px 3px 1px rgba(0, 0, 0, 0.15);\n",
              "      filter: drop-shadow(0px 1px 2px rgba(0, 0, 0, 0.3));\n",
              "      fill: #FFFFFF;\n",
              "    }\n",
              "  </style>\n",
              "\n",
              "      <script>\n",
              "        const buttonEl =\n",
              "          document.querySelector('#df-824a766a-4421-4098-b7eb-7c4a77f9b6c2 button.colab-df-convert');\n",
              "        buttonEl.style.display =\n",
              "          google.colab.kernel.accessAllowed ? 'block' : 'none';\n",
              "\n",
              "        async function convertToInteractive(key) {\n",
              "          const element = document.querySelector('#df-824a766a-4421-4098-b7eb-7c4a77f9b6c2');\n",
              "          const dataTable =\n",
              "            await google.colab.kernel.invokeFunction('convertToInteractive',\n",
              "                                                     [key], {});\n",
              "          if (!dataTable) return;\n",
              "\n",
              "          const docLinkHtml = 'Like what you see? Visit the ' +\n",
              "            '<a target=\"_blank\" href=https://colab.research.google.com/notebooks/data_table.ipynb>data table notebook</a>'\n",
              "            + ' to learn more about interactive tables.';\n",
              "          element.innerHTML = '';\n",
              "          dataTable['output_type'] = 'display_data';\n",
              "          await google.colab.output.renderOutput(dataTable, element);\n",
              "          const docLink = document.createElement('div');\n",
              "          docLink.innerHTML = docLinkHtml;\n",
              "          element.appendChild(docLink);\n",
              "        }\n",
              "      </script>\n",
              "    </div>\n",
              "  </div>\n",
              "  "
            ]
          },
          "metadata": {},
          "execution_count": 60
        }
      ],
      "source": [
        "capExcep = df.query('propiedad_Planta_Fisica == \"COMUNIDAD RELIGIOSA\" or \\\n",
        "                        propiedad_Planta_Fisica == \"PERSONA NATURAL\" and \\\n",
        "                        capacidades_Excepcionales != \"CAPACIDADES EXCEPCIONALES\"')\n",
        "capExcep = capExcep[['propiedad_Planta_Fisica','capacidades_Excepcionales']].dropna()\n",
        "capExcep\n"
      ]
    },
    {
      "cell_type": "markdown",
      "metadata": {
        "id": "DKr35HkgCbLt"
      },
      "source": [
        "¿Cuáles son los colegios que ofrecen todos los niveles educativos? ¿Qué idiomas ofrecen?"
      ]
    },
    {
      "cell_type": "code",
      "execution_count": 66,
      "metadata": {
        "id": "z01ICR-MCbLt",
        "outputId": "7248a052-1733-4151-9409-a7e16b44805b",
        "colab": {
          "base_uri": "https://localhost:8080/",
          "height": 206
        }
      },
      "outputs": [
        {
          "output_type": "execute_result",
          "data": {
            "text/plain": [
              "                                  nombreestablecimiento  \\\n",
              "5     COL SAN PATRICIO                              ...   \n",
              "1031                            INSTITUTO JUAN PABLO II   \n",
              "1065                   COLEGIO TOMAS CARRASQUILLA (IED)   \n",
              "1450         COLOMBO BRITANICO - BILINGÜE INTERNACIONAL   \n",
              "2236                      COLEGIO NUEVO HORIZONTE (IED)   \n",
              "\n",
              "                                                niveles idiomas  \n",
              "5     PREESCOLAR,MEDIA,BÁSICA SECUNDARIA,BÁSICA PRIM...  INGLÉS  \n",
              "1031  PREESCOLAR,MEDIA,BÁSICA SECUNDARIA,BÁSICA PRIM...     NaN  \n",
              "1065  PREESCOLAR,MEDIA,BÁSICA SECUNDARIA,BÁSICA PRIM...     NaN  \n",
              "1450  PREESCOLAR,MEDIA,BÁSICA SECUNDARIA,BÁSICA PRIM...  INGLÉS  \n",
              "2236  PREESCOLAR,MEDIA,BÁSICA SECUNDARIA,BÁSICA PRIM...     NaN  "
            ],
            "text/html": [
              "\n",
              "  <div id=\"df-226af4c5-6d49-4d64-9067-c598d01bb988\">\n",
              "    <div class=\"colab-df-container\">\n",
              "      <div>\n",
              "<style scoped>\n",
              "    .dataframe tbody tr th:only-of-type {\n",
              "        vertical-align: middle;\n",
              "    }\n",
              "\n",
              "    .dataframe tbody tr th {\n",
              "        vertical-align: top;\n",
              "    }\n",
              "\n",
              "    .dataframe thead th {\n",
              "        text-align: right;\n",
              "    }\n",
              "</style>\n",
              "<table border=\"1\" class=\"dataframe\">\n",
              "  <thead>\n",
              "    <tr style=\"text-align: right;\">\n",
              "      <th></th>\n",
              "      <th>nombreestablecimiento</th>\n",
              "      <th>niveles</th>\n",
              "      <th>idiomas</th>\n",
              "    </tr>\n",
              "  </thead>\n",
              "  <tbody>\n",
              "    <tr>\n",
              "      <th>5</th>\n",
              "      <td>COL SAN PATRICIO                              ...</td>\n",
              "      <td>PREESCOLAR,MEDIA,BÁSICA SECUNDARIA,BÁSICA PRIM...</td>\n",
              "      <td>INGLÉS</td>\n",
              "    </tr>\n",
              "    <tr>\n",
              "      <th>1031</th>\n",
              "      <td>INSTITUTO JUAN PABLO II</td>\n",
              "      <td>PREESCOLAR,MEDIA,BÁSICA SECUNDARIA,BÁSICA PRIM...</td>\n",
              "      <td>NaN</td>\n",
              "    </tr>\n",
              "    <tr>\n",
              "      <th>1065</th>\n",
              "      <td>COLEGIO TOMAS CARRASQUILLA (IED)</td>\n",
              "      <td>PREESCOLAR,MEDIA,BÁSICA SECUNDARIA,BÁSICA PRIM...</td>\n",
              "      <td>NaN</td>\n",
              "    </tr>\n",
              "    <tr>\n",
              "      <th>1450</th>\n",
              "      <td>COLOMBO BRITANICO - BILINGÜE INTERNACIONAL</td>\n",
              "      <td>PREESCOLAR,MEDIA,BÁSICA SECUNDARIA,BÁSICA PRIM...</td>\n",
              "      <td>INGLÉS</td>\n",
              "    </tr>\n",
              "    <tr>\n",
              "      <th>2236</th>\n",
              "      <td>COLEGIO NUEVO HORIZONTE (IED)</td>\n",
              "      <td>PREESCOLAR,MEDIA,BÁSICA SECUNDARIA,BÁSICA PRIM...</td>\n",
              "      <td>NaN</td>\n",
              "    </tr>\n",
              "  </tbody>\n",
              "</table>\n",
              "</div>\n",
              "      <button class=\"colab-df-convert\" onclick=\"convertToInteractive('df-226af4c5-6d49-4d64-9067-c598d01bb988')\"\n",
              "              title=\"Convert this dataframe to an interactive table.\"\n",
              "              style=\"display:none;\">\n",
              "        \n",
              "  <svg xmlns=\"http://www.w3.org/2000/svg\" height=\"24px\"viewBox=\"0 0 24 24\"\n",
              "       width=\"24px\">\n",
              "    <path d=\"M0 0h24v24H0V0z\" fill=\"none\"/>\n",
              "    <path d=\"M18.56 5.44l.94 2.06.94-2.06 2.06-.94-2.06-.94-.94-2.06-.94 2.06-2.06.94zm-11 1L8.5 8.5l.94-2.06 2.06-.94-2.06-.94L8.5 2.5l-.94 2.06-2.06.94zm10 10l.94 2.06.94-2.06 2.06-.94-2.06-.94-.94-2.06-.94 2.06-2.06.94z\"/><path d=\"M17.41 7.96l-1.37-1.37c-.4-.4-.92-.59-1.43-.59-.52 0-1.04.2-1.43.59L10.3 9.45l-7.72 7.72c-.78.78-.78 2.05 0 2.83L4 21.41c.39.39.9.59 1.41.59.51 0 1.02-.2 1.41-.59l7.78-7.78 2.81-2.81c.8-.78.8-2.07 0-2.86zM5.41 20L4 18.59l7.72-7.72 1.47 1.35L5.41 20z\"/>\n",
              "  </svg>\n",
              "      </button>\n",
              "      \n",
              "  <style>\n",
              "    .colab-df-container {\n",
              "      display:flex;\n",
              "      flex-wrap:wrap;\n",
              "      gap: 12px;\n",
              "    }\n",
              "\n",
              "    .colab-df-convert {\n",
              "      background-color: #E8F0FE;\n",
              "      border: none;\n",
              "      border-radius: 50%;\n",
              "      cursor: pointer;\n",
              "      display: none;\n",
              "      fill: #1967D2;\n",
              "      height: 32px;\n",
              "      padding: 0 0 0 0;\n",
              "      width: 32px;\n",
              "    }\n",
              "\n",
              "    .colab-df-convert:hover {\n",
              "      background-color: #E2EBFA;\n",
              "      box-shadow: 0px 1px 2px rgba(60, 64, 67, 0.3), 0px 1px 3px 1px rgba(60, 64, 67, 0.15);\n",
              "      fill: #174EA6;\n",
              "    }\n",
              "\n",
              "    [theme=dark] .colab-df-convert {\n",
              "      background-color: #3B4455;\n",
              "      fill: #D2E3FC;\n",
              "    }\n",
              "\n",
              "    [theme=dark] .colab-df-convert:hover {\n",
              "      background-color: #434B5C;\n",
              "      box-shadow: 0px 1px 3px 1px rgba(0, 0, 0, 0.15);\n",
              "      filter: drop-shadow(0px 1px 2px rgba(0, 0, 0, 0.3));\n",
              "      fill: #FFFFFF;\n",
              "    }\n",
              "  </style>\n",
              "\n",
              "      <script>\n",
              "        const buttonEl =\n",
              "          document.querySelector('#df-226af4c5-6d49-4d64-9067-c598d01bb988 button.colab-df-convert');\n",
              "        buttonEl.style.display =\n",
              "          google.colab.kernel.accessAllowed ? 'block' : 'none';\n",
              "\n",
              "        async function convertToInteractive(key) {\n",
              "          const element = document.querySelector('#df-226af4c5-6d49-4d64-9067-c598d01bb988');\n",
              "          const dataTable =\n",
              "            await google.colab.kernel.invokeFunction('convertToInteractive',\n",
              "                                                     [key], {});\n",
              "          if (!dataTable) return;\n",
              "\n",
              "          const docLinkHtml = 'Like what you see? Visit the ' +\n",
              "            '<a target=\"_blank\" href=https://colab.research.google.com/notebooks/data_table.ipynb>data table notebook</a>'\n",
              "            + ' to learn more about interactive tables.';\n",
              "          element.innerHTML = '';\n",
              "          dataTable['output_type'] = 'display_data';\n",
              "          await google.colab.output.renderOutput(dataTable, element);\n",
              "          const docLink = document.createElement('div');\n",
              "          docLink.innerHTML = docLinkHtml;\n",
              "          element.appendChild(docLink);\n",
              "        }\n",
              "      </script>\n",
              "    </div>\n",
              "  </div>\n",
              "  "
            ]
          },
          "metadata": {},
          "execution_count": 66
        }
      ],
      "source": [
        "df_col = df[['nombreestablecimiento', 'niveles', 'idiomas']]\n",
        "df_col.drop_duplicates()\n",
        "\n",
        "impri = df_col.query('niveles == \"PREESCOLAR,MEDIA,BÁSICA SECUNDARIA,BÁSICA PRIMARIA,PRIMERA INFANCIA\"')\n",
        "impri"
      ]
    },
    {
      "cell_type": "code",
      "source": [
        "type(impri['nombreestablecimiento'])\n",
        "impri['nombreestablecimiento'][5]"
      ],
      "metadata": {
        "id": "EYcVbcTBcA5K",
        "outputId": "2127594f-8537-478f-f503-b4fd34cf1033",
        "colab": {
          "base_uri": "https://localhost:8080/",
          "height": 35
        }
      },
      "execution_count": 72,
      "outputs": [
        {
          "output_type": "execute_result",
          "data": {
            "text/plain": [
              "'COL SAN PATRICIO                                                                                    '"
            ],
            "application/vnd.google.colaboratory.intrinsic+json": {
              "type": "string"
            }
          },
          "metadata": {},
          "execution_count": 72
        }
      ]
    },
    {
      "cell_type": "code",
      "execution_count": 78,
      "metadata": {
        "id": "oxXJfVkXCbLu",
        "outputId": "54b92ff2-0fd0-46a1-9e6b-b9e599c2df08",
        "colab": {
          "base_uri": "https://localhost:8080/"
        }
      },
      "outputs": [
        {
          "output_type": "stream",
          "name": "stdout",
          "text": [
            "El idioma de los colegios  ['COL SAN PATRICIO                                                                                    ', 'COLOMBO BRITANICO - BILINGÜE INTERNACIONAL']  es ingles, el resto no tiene \n"
          ]
        }
      ],
      "source": [
        "colegios = [impri['nombreestablecimiento'][5], impri['nombreestablecimiento'][1450]]\n",
        "\n",
        "print(f'El idioma de los colegios ', colegios, ' es ingles, el resto no tiene ')"
      ]
    },
    {
      "cell_type": "code",
      "source": [
        ""
      ],
      "metadata": {
        "id": "8DmN49QRdkTY"
      },
      "execution_count": null,
      "outputs": []
    }
  ],
  "metadata": {
    "kernelspec": {
      "display_name": "conda_python3",
      "language": "python",
      "name": "conda_python3"
    },
    "language_info": {
      "codemirror_mode": {
        "name": "ipython",
        "version": 3
      },
      "file_extension": ".py",
      "mimetype": "text/x-python",
      "name": "python",
      "nbconvert_exporter": "python",
      "pygments_lexer": "ipython3",
      "version": "3.6.10"
    },
    "colab": {
      "name": "ejercicio.ipynb",
      "provenance": []
    }
  },
  "nbformat": 4,
  "nbformat_minor": 0
}