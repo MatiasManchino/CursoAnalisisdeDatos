{
  "nbformat": 4,
  "nbformat_minor": 0,
  "metadata": {
    "colab": {
      "name": "ResumenCurso.ipynb",
      "private_outputs": true,
      "provenance": [],
      "authorship_tag": "ABX9TyPCQSc86SrRcbCUPGaS/fKc",
      "include_colab_link": true
    },
    "kernelspec": {
      "name": "python3",
      "display_name": "Python 3"
    },
    "language_info": {
      "name": "python"
    }
  },
  "cells": [
    {
      "cell_type": "markdown",
      "metadata": {
        "id": "view-in-github",
        "colab_type": "text"
      },
      "source": [
        "<a href=\"https://colab.research.google.com/github/MatiasManchino/CursoAnalisisdeDatos/blob/main/ResumenCurso.ipynb\" target=\"_parent\"><img src=\"https://colab.research.google.com/assets/colab-badge.svg\" alt=\"Open In Colab\"/></a>"
      ]
    },
    {
      "cell_type": "markdown",
      "source": [
        "\n",
        "\n",
        "> Machete para estudiar\n",
        "\n",
        "1.   Clase 1\n",
        "- Consultas (**columnas, filas, cantidades, informacion, descripcion, muestra de datos**,)\n",
        "- Objetos fundamentales: **Series, DataFrame, Indices**\n",
        "- Filtrados: **columnas, filas, posicion, nombre, condiciones, mixtas**.\n",
        "- Mascaras booleanas (operadores para evaluar condiciones **(==)**, operadores para sumar condiciones **(&, |)**)\n",
        "- Boolean con **query()**\n",
        "- Funciones de Agregación: **min, max, count, sum, prod, mean, median, mode, std, var**.\n",
        "- Otros: p/ variables numericas: **describe()**, p/ variables categoricas: **value_counts()**\n",
        "- Ordenar ascendente o descendente: **sort_values()**\n",
        "2.   Clase 2\n",
        "- Parametros y Extraccion de datos (**URL internet**, **File local**, **convertrs**)\n",
        "- Creador de tablas dinamicas: **Pivot Table** (index, columns, values, aggfunc)\n",
        "- Contar registros, crear un panel de registros (diferencias y utilización de **Pivot_table()**\n",
        "- **Concat()**, concatena dos paneles en uno solo, muy importante es que los paneles sean identicos en estructura (o sea, todas las columnas llamadas igual)\n",
        "- **Str(), str.replace(), str.split(), map()**. Usos para transformar los datos\n",
        "- Merge\n",
        "3.   Clase 3\n",
        "- Niveles de agregación, combinación y orden, **drop_duplicates()**\n",
        "- Valores Nulos, **isnull()**, **any()**(evalula un elemento True)/**all()**(evalula todos elementos True) \n",
        "- **Dropna(inplace=bool)** metodo con el parametro se utiliza para que los metodos que se afecten a DataFrames.\n",
        "- Tabla de todas las funciones de agregacion (clase 1)+ any y all\n",
        "- El comportamiento \"lazy evaluation\", es muy importante en todos los motores de procesamiento de datos. Ejecutar las operaciones computacionalmente pesadas, sólo cuando se necesita permite hacer los procesos más eficientes. **%%timeit**\n",
        "- GroupBy - SeriesGroupBy\n",
        "- Agregaciones multiples dentro del uso de GroupBy esta el metdo **aggregate()** el cual se utiliza para agregar varios parametros en forma de diccionario con los nombres de las columnas y el tipo de agregación que se desea incluir (sum, mead, median, etc), el resultado de esto da un MultiIndex en vez de un Index ya que trabaja con varios indices (El objeto MultiIndex puede ser complicado para trabajar. Por eso conviene utilizar el método **reset_index()** para volver a un DataFrame común).\n",
        "- Funcion **qcut** lo que hace es agrupar los datos por mas de una columna usando una lista de valor unico como paramentro. Por ejemplo, ubicar datos que tengan una medida de localizacion (percentil, centil, decil).\n",
        "4.   Clase 4\n",
        "- Cadenas de caracteres: **count()** contador de ocurrencias, suele trabajar con regex, **contains()** trae las filas que contienen una cadena de caracteres determinada, **lower()** transformar todos los datos en minusculas, **upper()** transformar todos los datos en mayusculas , **title()** transformar todos los datos con la primera mayuscula y el resto en minuscula, **split()** VER VIDEOOOOO\n",
        "- Organizar info: \n",
        "    - OLTP 4 objetivos: \n",
        "        - Operaciones atomicas: las transacciones se hacen o no se hacen no\\\n",
        "         existe estado inesperado\n",
        "        - Consistencia de BBDD: debe respetar una serie de restricciones\\\n",
        "         (ejem: tarjeta de credito debe estar anclada en una cuenta existente)\n",
        "        - Operaciones en aislamiento: significa que las opp no deben influir\\\n",
        "         en el estado de la BBDD incluso si llegaran a fallar.\n",
        "    - OLAP:  se utiliza para el analisis y reporte de negocios a partri de\\\n",
        "     agregacion de datos a fin de proveer informacion a los usuarios. La\\\n",
        "     herramienta se conoce como \"cubo de OLAP\", ya que se realiza mediante\\\n",
        "     una analisis multidimensional. Este es un array que permite ver\\\n",
        "     informacion desde distintos angulos. Requiere un proceso de carga y\\\n",
        "     transformacion masiva que por lo general puede durar horas e incluso dias.\n",
        "- Tidy date\n",
        "- Melt\n",
        "5.   Clase 5\n",
        "\n"
      ],
      "metadata": {
        "id": "3X-x6OyIMOwK"
      }
    },
    {
      "cell_type": "code",
      "execution_count": null,
      "metadata": {
        "id": "xKFsqKzyMBU0"
      },
      "outputs": [],
      "source": [
        ""
      ]
    }
  ]
}