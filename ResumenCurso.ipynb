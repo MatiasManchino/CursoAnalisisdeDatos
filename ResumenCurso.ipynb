{
  "nbformat": 4,
  "nbformat_minor": 0,
  "metadata": {
    "colab": {
      "name": "ResumenCurso.ipynb",
      "private_outputs": true,
      "provenance": [],
      "authorship_tag": "ABX9TyN4e1z0h12zYWya7txBszfV",
      "include_colab_link": true
    },
    "kernelspec": {
      "name": "python3",
      "display_name": "Python 3"
    },
    "language_info": {
      "name": "python"
    }
  },
  "cells": [
    {
      "cell_type": "markdown",
      "metadata": {
        "id": "view-in-github",
        "colab_type": "text"
      },
      "source": [
        "<a href=\"https://colab.research.google.com/github/MatiasManchino/CursoAnalisisdeDatos/blob/main/ResumenCurso.ipynb\" target=\"_parent\"><img src=\"https://colab.research.google.com/assets/colab-badge.svg\" alt=\"Open In Colab\"/></a>"
      ]
    },
    {
      "cell_type": "code",
      "source": [
        "import pandas as pd\n",
        "#import numpy as np\n",
        "#import matplotlib.pyplot as plt\n",
        "\n",
        "#import warnings\n",
        "#warnings.filterwarnings('ignore')\n",
        "\n",
        "#%matplotlib inline"
      ],
      "metadata": {
        "id": "56_d49bzqT4j"
      },
      "execution_count": null,
      "outputs": []
    },
    {
      "cell_type": "code",
      "source": [
        "### datasets\n",
        "\n",
        "df1 = pd.read_csv('https://datasets-humai.s3.amazonaws.com/datasets/titanic.csv', sep='|')\n",
        "df2 = 0\n",
        "df3 = 0\n",
        "df4 = pd.read_csv('https://datasets-humai.s3.amazonaws.com/datasets/dolar_oficial_ambito.csv')\n",
        "df5 = 0"
      ],
      "metadata": {
        "id": "oaUBy_M5olgC"
      },
      "execution_count": null,
      "outputs": []
    },
    {
      "cell_type": "markdown",
      "source": [
        "\n",
        "\n",
        "> Machete para estudiar\n",
        "\n",
        "## 1.   **Clase 1**\n",
        "- a) Consultas (**columnas, filas, cantidades, informacion, descripcion, muestra de datos**)\n",
        "- b) Objetos fundamentales: **Series, DataFrame, Indices**\n",
        "- c) Filtrados: **columnas, filas, posicion, nombre, condiciones (el d), mixtas**.\n",
        "- d) Mascaras booleanas (operadores para evaluar condiciones **(==)**, operadores para sumar condiciones **(&, |)**)\n",
        "- e) Boolean con **query()**\n",
        "- f) Funciones de Agregación: **min, max, count, sum, prod, mean, median, mode, std, var**.\n",
        "- g) Otros: p/ variables numericas: **describe()**, p/ variables categoricas: **value_counts()**\n",
        "- h) Ordenar ascendente o descendente: **sort_values()**\n"
      ],
      "metadata": {
        "id": "3X-x6OyIMOwK"
      }
    },
    {
      "cell_type": "code",
      "source": [
        "#a\n",
        "print(df1.columns,'\\n\\n', df1.shape)\n",
        "print('\\n')\n",
        "df1.info()\n",
        "print('\\n')\n",
        "df1.describe()\n"
      ],
      "metadata": {
        "id": "DpyyhaaKvokB"
      },
      "execution_count": null,
      "outputs": []
    },
    {
      "cell_type": "code",
      "source": [
        "#b\n",
        "#Serie\n",
        "serie = pd.Series(['a','b','c']) \n",
        "print('Tipo de objetos que tiene ', serie.dtype)\n",
        "print('Nombre ', serie.name)\n",
        "print('Index ',serie.index)\n",
        "print('Valores ',serie.values)\n",
        "\n",
        "print('\\n')\n",
        "\n",
        "#Dataset\n",
        "print('Columnas ', df1.columns) \n",
        "print('\\nIndex ', df1.index)\n",
        "print('\\nDimensiones ',df1.shape)\n",
        "\n",
        "print('\\n')\n",
        "\n",
        "#indices\n",
        "ind = pd.Index([2, 3, 5, 7, 11])\n",
        "print('\\n', ind)\n",
        "\n",
        "#ind[1] = 0 NO SE PUEDE PORQUE ES INMUTABLE\n"
      ],
      "metadata": {
        "id": "7i4gBCf_rJdH"
      },
      "execution_count": null,
      "outputs": []
    },
    {
      "cell_type": "code",
      "source": [
        "#c\n",
        "#por columnas:\n",
        "porcolumnas = df1.loc[:,['Age','Survived']]\n",
        "print(porcolumnas.head())\n",
        "\n",
        "porcolumnas1 = df1[['Age','Survived']]\n",
        "print(porcolumnas1.head())\n",
        "\n",
        "#filas\n",
        "filas = df1.loc[[1,8],:]\n",
        "print(filas.head())\n",
        "\n",
        "#posicion\n",
        "posicion = df1 ['Age'][2]\n",
        "print('\\n',posicion)"
      ],
      "metadata": {
        "id": "h36n-kFvs19V"
      },
      "execution_count": null,
      "outputs": []
    },
    {
      "cell_type": "code",
      "source": [
        "#d\n",
        "#mascaras + condiciones & | ~\n",
        "\n",
        "mascara = df1['Age'] < 3\n",
        "print('\\n', mascara) # false todo lo que no cumpla con la condicion\n",
        "\n",
        "porcondiciones = df1[(df1['Age'] < 3) & (df1['Survived'] == 1)]\n",
        "print('\\n',porcondiciones)"
      ],
      "metadata": {
        "id": "vdKW-mfo3u8o"
      },
      "execution_count": null,
      "outputs": []
    },
    {
      "cell_type": "code",
      "source": [
        "#e \n",
        "#Query\n",
        "porquery = df1.query('Age < 3 & Survived == 1')\n",
        "porquery\n"
      ],
      "metadata": {
        "id": "Jq__uRF556In"
      },
      "execution_count": null,
      "outputs": []
    },
    {
      "cell_type": "code",
      "source": [
        "#f\n",
        "agregacion = df1[df1.Survived == 1].pivot_table(\n",
        "    index=[\"PassengerId\"],\n",
        "    values=[\"Age\"]\n",
        ")\n",
        "#minimo\n",
        "print('Minimo',agregacion['Age'].max(),'\\n')\n",
        "#maximo\n",
        "print('Maximo',agregacion['Age'].min(),'\\n')\n",
        "#contador\n",
        "print('Contador',agregacion['Age'].count(),'\\n')\n",
        "#suma\n",
        "df1.query('Pclass == 1')['Fare'].sum()\n",
        "print('Suma',agregacion['Age'].sum(),'\\n')\n",
        "#prod\n",
        "print('Promedio',agregacion['Age'].prod(),'\\n')\n",
        "#media\n",
        "df1.query('Pclass == 2')['Age'].mean()\n",
        "print('Media',agregacion['Age'].mean(),'\\n')\n",
        "#mediana\n",
        "print('Mediana',agregacion['Age'].median(),'\\n')\n",
        "#modo\n",
        "print('Modo',agregacion['Age'].mode(),'\\n')\n",
        "#desviacion estandar\n",
        "print('Desviacion estandar',agregacion['Age'].std(),'\\n')\n",
        "#varianza\n",
        "print('Varianza',agregacion['Age'].var())"
      ],
      "metadata": {
        "id": "QcctqmTfBLYQ"
      },
      "execution_count": null,
      "outputs": []
    },
    {
      "cell_type": "code",
      "source": [
        "#g\n",
        "#p/ variables numericas\n",
        "df1.describe()\n",
        "#p/ variables categoricas\n",
        "df1['Pclass'].value_counts()\n"
      ],
      "metadata": {
        "id": "-2cJD_rfGqgQ"
      },
      "execution_count": null,
      "outputs": []
    },
    {
      "cell_type": "code",
      "source": [
        "#h\n",
        "df1.sort_values('Age', ascending=True).head(10)"
      ],
      "metadata": {
        "id": "ry2YqhbSKB9y"
      },
      "execution_count": null,
      "outputs": []
    },
    {
      "cell_type": "markdown",
      "source": [
        "## 2.   **Clase 2**\n",
        "- a) Parametros y Extraccion de datos (**URL internet**, **File local**, **convertrs**)\n",
        "- b) Creador de tablas dinamicas: **Pivot Table** (index, columns, values, aggfunc)\n",
        "- c) Contar registros, crear un panel de registros (diferencias y utilización de **Pivot_table()**\n",
        "- d) **Concat()**, concatena dos paneles en uno solo, muy importante es que los paneles sean identicos en estructura (o sea, todas las columnas llamadas igual)\n",
        "- e) **Str(), str.replace(), str.split(), map()**. Usos para transformar los datos\n",
        "- f) Merge\n"
      ],
      "metadata": {
        "id": "JQEo50DTvQLX"
      }
    },
    {
      "cell_type": "code",
      "source": [
        ""
      ],
      "metadata": {
        "id": "XU01MvquvpW_"
      },
      "execution_count": null,
      "outputs": []
    },
    {
      "cell_type": "markdown",
      "source": [
        "## 3.   **Clase 3**\n",
        "- a) Niveles de agregación, combinación y orden, **drop_duplicates()**\n",
        "- b) Valores Nulos, **isnull()**, **any()**(evalula un elemento True)/**all()**(evalula todos elementos True) \n",
        "- c) **Dropna(inplace=bool)** metodo con el parametro se utiliza para que los metodos que se afecten a DataFrames.\n",
        "- d) Tabla de todas las funciones de agregacion (clase 1)+ any y all\n",
        "- e) El comportamiento \"lazy evaluation\", es muy importante en todos los motores de procesamiento de datos. Ejecutar las operaciones computacionalmente pesadas, sólo cuando se necesita permite hacer los procesos más eficientes. **%%timeit**\n",
        "- f) GroupBy - SeriesGroupBy\n",
        "- g) Agregaciones multiples dentro del uso de GroupBy esta el metdo **aggregate()** el cual se utiliza para agregar varios parametros en forma de diccionario con los nombres de las columnas y el tipo de agregación que se desea incluir (sum, mead, median, etc), el resultado de esto da un MultiIndex en vez de un Index ya que trabaja con varios indices (El objeto MultiIndex puede ser complicado para trabajar. Por eso conviene utilizar el método **reset_index()** para volver a un DataFrame común).\n",
        "- h) Funcion **qcut** lo que hace es agrupar los datos por mas de una columna usando una lista de valor unico como paramentro. Por ejemplo, ubicar datos que tengan una medida de localizacion (percentil, centil, decil).\n"
      ],
      "metadata": {
        "id": "iNeamy87vU0g"
      }
    },
    {
      "cell_type": "code",
      "source": [
        ""
      ],
      "metadata": {
        "id": "ua26kGZbvqNh"
      },
      "execution_count": null,
      "outputs": []
    },
    {
      "cell_type": "markdown",
      "source": [
        "## 4.   **Clase 4**\n",
        "- a) Cadenas de caracteres: **count()** contador de ocurrencias, suele trabajar con regex, **contains()** trae las filas que contienen una cadena de caracteres determinada, **lower()** transformar todos los datos en minusculas, **upper()** transformar todos los datos en mayusculas , **title()** transformar todos los datos con la primera mayuscula y el resto en minuscula, **split()** separar dos variables que se presentan en una misma columna.\n",
        "- b) Organizar info: \n",
        "    - OLTP 4 objetivos: \n",
        "        - Operaciones atomicas: las transacciones se hacen o no se hacen no\n",
        "         existe estado inesperado\n",
        "        - Consistencia de BBDD: debe respetar una serie de restricciones\n",
        "         (ejem: tarjeta de credito debe estar anclada en una cuenta existente)\n",
        "        - Operaciones en aislamiento: significa que las opp no deben influir\n",
        "         en el estado de la BBDD incluso si llegaran a fallar.\n",
        "        - Durabilidad: que no se pierda. No habría posibilidad de revertir o \n",
        "         eliminar la transacción, solamente con una nueva operación.\n",
        "    - OLAP:  se utiliza para el analisis y reporte de negocios a partri de\n",
        "     agregacion de datos a fin de proveer informacion a los usuarios. La\n",
        "     herramienta se conoce como \"cubo de OLAP\", ya que se realiza mediante\n",
        "     una analisis multidimensional. Este es un array que permite ver\n",
        "     informacion desde distintos angulos. Requiere un proceso de carga y\n",
        "     transformacion masiva que por lo general puede durar horas e incluso dias.\n",
        "- c) Tidy date\n",
        "- d) **Melt()**, este metodo disminuye la cantidad de columnas del dataset, y crea dos nuevas, \"varialbe\" y \"value\", poniendo las columas con su valor asociado en dichas nuevas columnas respectivamente.\n",
        "- e) Series de tiempo\n",
        "    - **to_datatime()** transforma un string en un objeto de tipo Timestamp,\n",
        "     este es un objeto que estandaliza las fechas en un formato unico.\n",
        "    - **.between** filtra por rango de fechas (años, dias, meses)\n",
        "    - Para localizar los valores de una fecha determinada se pueden crear\n",
        "     columnas para cada medida de tiempo (año, mes, etc) para luego acceder\n",
        "     atraves de loc['yyyy-mm-dd']\n",
        "- f) Ventanas y medias moviles: para suavisar una serie, **.rolling().mean()** para calular la media de x. Para desplazar los datos x periodos se puede utiliazr Shitf, atregando una columna nueva con el dato anterior al pedido (**shift(perieodo=x)**). De manera similar el Diff el cual se puede ver la diferencia entre un periodo y el eanterior diff(x).\n"
      ],
      "metadata": {
        "id": "gyroBVrXvZVz"
      }
    },
    {
      "cell_type": "code",
      "source": [
        ""
      ],
      "metadata": {
        "id": "KlasVDQ_vrT0"
      },
      "execution_count": null,
      "outputs": []
    },
    {
      "cell_type": "markdown",
      "source": [
        "## 5.   **Clase 5**\n",
        "- Visualizacion\n",
        "    - a) Matplotlib:\n",
        "    - b) World Bank Data API (Muchos datos empaquetados)\n",
        "    - c) Series de tiempo\n",
        "    - d) Graficos: Torta, Barras, Histograma, Diagrama de caja, Diagrama de \n",
        "     dispersión\n",
        "    - e) Plotly\n"
      ],
      "metadata": {
        "id": "NtUKLcZ4vcuM"
      }
    },
    {
      "cell_type": "code",
      "source": [
        ""
      ],
      "metadata": {
        "id": "SyfRjEc1vsad"
      },
      "execution_count": null,
      "outputs": []
    },
    {
      "cell_type": "markdown",
      "source": [
        "**CREAR UN DATASET MANUALMENTE O DESDE SERIES, NO EXTRAIDOS DIRECTAMENTE DE INTERNET**"
      ],
      "metadata": {
        "id": "hWNHi-AvvgAJ"
      }
    },
    {
      "cell_type": "code",
      "execution_count": null,
      "metadata": {
        "id": "xKFsqKzyMBU0"
      },
      "outputs": [],
      "source": [
        ""
      ]
    }
  ]
}